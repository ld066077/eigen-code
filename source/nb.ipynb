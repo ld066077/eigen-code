{
 "cells": [
  {
   "cell_type": "code",
   "execution_count": 590,
   "metadata": {
    "vscode": {
     "languageId": "wolfram"
    }
   },
   "outputs": [
    {
     "name": "stdout",
     "output_type": "stream",
     "text": [
      "Searching eigenvalues in range: 0.0210406 to 1.29902\n",
      "Trying initial guess: 0.0210406\n",
      "Trying initial guess: 0.0338205\n",
      "Trying initial guess: 0.0466003\n",
      "Trying initial guess: 0.0593802\n",
      "Trying initial guess: 0.07216\n",
      "Trying initial guess: 0.0849398\n",
      "Success: Found eigenvalue Omega^2 = 0.22412\n",
      "Continuum spectrum diagnostic:\n"
     ]
    },
    {
     "data": {
      "text/html": [
       "<div><img alt=\"Output\" src=\"data:image/png;base64,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\"></div>"
      ],
      "text/plain": [
       "Legended[-Graphics-, Placed[LineLegend[{Directive[Opacity[1.], \n",
       " \n",
       ">       RGBColor[0.368417, 0.506779, 0.709798], AbsoluteThickness[1.6]], \n",
       " \n",
       ">      Directive[Opacity[1.], RGBColor[0.880722, 0.611041, 0.142051], \n",
       " \n",
       ">       AbsoluteThickness[1.6]]}, {Omega_a^2(x), Omega_G^2(x)}, LegendMarkers -> None, \n",
       " \n",
       ">     LabelStyle -> {}, LegendLayout -> Column], After, Identity]]"
      ]
     },
     "execution_count": 590,
     "metadata": {
      "text/html": [],
      "text/plain": []
     },
     "output_type": "execute_result"
    }
   ],
   "source": [
    "(* Global GAM Eigenvalue Solver (Enhanced Stability Version) *)\n",
    "ClearAll[\"Global`*\"];\n",
    "\n",
    "(*=== Physical Parameters ===*)\n",
    "a = 1.0;          (* Normalized minor radius *)\n",
    "rho0 = 0.01;      (* Normalized ion Larmor radius *)\n",
    "gammai = 5/3;     (* Ion adiabatic index *)\n",
    "tau = 1.0;        (* Temperature ratio T_e/T_i *)\n",
    "xmatch = 0.8;      (* Initial matching point *)\n",
    "\n",
    "(*=== Equilibrium Profiles ===*)\n",
    "q[x_] := 1.2 + 3.8*x^2 + 0.1*Exp[-10*x];  (* Safety factor *)\n",
    "T[x_] := 0.3 + 0.7*(1 - x^2)^2 + 0.1*x;   (* Temperature profile *)\n",
    "\n",
    "(*=== Frequency Parameters ===*)\n",
    "OmegaASq[x_] := T[x]/(2*q[x]^2);         (* Acoustic continuum frequency squared *)\n",
    "OmegaGSq[x_] := T[x]*(1 + 1/(2*q[x]^2)); (* GAM continuum frequency squared *)\n",
    "\n",
    "(*=== Dispersion Function ===*)\n",
    "NumeratorDrd[OmegaSq_, x_] := (OmegaSq - OmegaASq[x])*(OmegaSq - OmegaGSq[x]);\n",
    "DenominatorDrd[OmegaSq_, x_] := 2*(gammai + tau)*T[x]^2*OmegaSq + 10^-6;\n",
    "Drd[OmegaSq_, x_] := NumeratorDrd[OmegaSq, x]/DenominatorDrd[OmegaSq, x];\n",
    "\n",
    "(*=== Differential Equation System ===*)\n",
    "eqn[OmegaSq_] := {\n",
    "  E0r''[x] == (4/(rho0^2*T[x]))*Drd[OmegaSq, x]*E0r[x],\n",
    "  E0r[0] == 0,        (* Left boundary condition *)\n",
    "  E0r'[0] == 0.0001   (* Normalized initial derivative *)\n",
    "};\n",
    "\n",
    "(*=== Enhanced Shooting Method ===*)\n",
    "ShootingMethod[OmegaSqGuess_] := Module[\n",
    "  {solLeft, solRight, logderivLeft, logderivRight, eps = 10^-6},\n",
    "  \n",
    "  solLeft = Quiet@Check[\n",
    "     NDSolve[eqn[OmegaSqGuess], E0r, {x, 0, xmatch}, \n",
    "      PrecisionGoal -> 10, AccuracyGoal -> 10,\n",
    "      Method -> {\"StiffnessSwitching\", \"NonstiffTest\" -> False}],\n",
    "     $Failed];\n",
    "  \n",
    "  solRight = Quiet@Check[\n",
    "     NDSolve[{\n",
    "       E0r''[x] == (4/(rho0^2*T[x]))*Drd[OmegaSqGuess, x]*E0r[x],\n",
    "       E0r[1] == 0,\n",
    "       E0r'[1] == 1},\n",
    "      E0r, {x, xmatch, 1}, PrecisionGoal -> 10, AccuracyGoal -> 10,\n",
    "      Method -> {\"StiffnessSwitching\", \"NonstiffTest\" -> False}],\n",
    "     $Failed];\n",
    "  \n",
    "  If[solLeft === $Failed || solRight === $Failed, Return[10^6]];\n",
    "  \n",
    "  logderivLeft = (E0r'[xmatch]/(E0r[xmatch] + eps)) /. solLeft[[1]];\n",
    "  logderivRight = (E0r'[xmatch]/(E0r[xmatch] + eps)) /. solRight[[1]];\n",
    "  \n",
    "  (logderivLeft - logderivRight) /; NumericQ[logderivLeft] && NumericQ[logderivRight]\n",
    "];\n",
    "\n",
    "(*=== Continuum Spectrum Calculation ===*)\n",
    "OmegaASqMin = NMinValue[{OmegaASq[x], 0 <= x <= 1}, x];\n",
    "OmegaGSqMax = NMaxValue[{OmegaGSq[x], 0 <= x <= 1}, x];\n",
    "\n",
    "(*=== Spectrum Gap Check ===*)\n",
    "If[OmegaASqMin >= OmegaGSqMax, \n",
    "  Print[\"No continuum gap! Omega_a^2_max = \", OmegaASqMin, \" >= Omega_G^2_min = \", OmegaGSqMax];\n",
    "  Abort[]];\n",
    "\n",
    "(*=== Adaptive Parameter Search ===*)\n",
    "OmegaSqStart = OmegaASqMin + 0.01*(OmegaGSqMax - OmegaASqMin);\n",
    "OmegaSqEnd = OmegaGSqMax - 0.01*(OmegaGSqMax - OmegaASqMin);\n",
    "step = (OmegaSqEnd - OmegaSqStart)/100;\n",
    "\n",
    "Print[\"Searching eigenvalues in range: \", OmegaSqStart, \" to \", OmegaSqEnd];\n",
    "\n",
    "OmegaSqSolution = Catch[\n",
    "  Do[\n",
    "    currentGuess = OmegaSqStart + k*step;\n",
    "    Print[\"Trying initial guess: \", currentGuess];\n",
    "    sol = Quiet@Check[\n",
    "       OmegaSq /. FindRoot[\n",
    "         ShootingMethod[OmegaSq], \n",
    "         {OmegaSq, currentGuess, OmegaSqStart, OmegaSqEnd},\n",
    "         Method -> \"Secant\", Evaluated -> False, MaxIterations -> 50\n",
    "       ],\n",
    "       $Failed];\n",
    "    \n",
    "    If[NumericQ[sol] && OmegaASqMin < sol < OmegaGSqMax, \n",
    "     Throw[sol];\n",
    "     Break[];\n",
    "    ],\n",
    "    {k, 0, 100}\n",
    "  ]\n",
    "];\n",
    "\n",
    "(*=== Results Verification ===*)\n",
    "If[NumericQ[OmegaSqSolution], \n",
    "  Print[\"Success: Found eigenvalue Omega^2 = \", OmegaSqSolution];\n",
    "  FinalSolution = NDSolve[eqn[OmegaSqSolution], E0r, {x, 0, 1}, PrecisionGoal -> 10];\n",
    "  Plot[E0r[x] /. FinalSolution[[1]], {x, 0, 1}, \n",
    "   PlotLabel -> Style[\"Global GAM Mode (Omega^2 = \" <> ToString[NumberForm[OmegaSqSolution, {5, 3}]] <> \")\", 14], \n",
    "   AxesLabel -> {\"x\", \"E0r\"}, ImageSize -> 500], \n",
    "  Print[\"No valid solution found, adjust parameters\"]];\n",
    "\n",
    "(*=== Continuum Visualization ===*)\n",
    "Print[\"Continuum spectrum diagnostic:\"];\n",
    "Plot[{OmegaASq[x], OmegaGSq[x]}, {x, 0, 1}, \n",
    " PlotLegends -> {\"Omega_a^2(x)\", \"Omega_G^2(x)\"}, \n",
    " PlotLabel -> \"Continuum Frequency Ranges\", \n",
    " GridLines -> {{}, {OmegaASqMin, OmegaGSqMax}}]\n"
   ]
  },
  {
   "cell_type": "code",
   "execution_count": 592,
   "metadata": {
    "vscode": {
     "languageId": "wolfram"
    }
   },
   "outputs": [
    {
     "name": "stdout",
     "output_type": "stream",
     "text": [
      "======================================\n",
      "Numerical precision maintained at 15.9546 digits\n",
      "Eigenvalue solution: 0.224120\n",
      "Continuum range: [0.008, 1.312]\n",
      "Solution validity: PASS\n"
     ]
    },
    {
     "data": {
      "text/html": [
       "<div><img alt=\"Output\" src=\"data:image/png;base64,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\"></div>"
      ],
      "text/plain": [
       "-Graphics-"
      ]
     },
     "execution_count": 592,
     "metadata": {
      "text/html": [],
      "text/plain": []
     },
     "output_type": "execute_result"
    }
   ],
   "source": [
    "(* Corrected GAM mode visualization *)\n",
    "Plot[E0r[x] /. FinalSolution[[1]], {x, 0, 1},\n",
    " PlotStyle -> {Thick, Blue},\n",
    " PlotLabel -> Style[Row[{\"Global GAM Mode (\", \n",
    "    Subscript[Style[\"Ω\", Italic], \"G\"]^2 \" = \", \n",
    "    NumberForm[OmegaSqSolution, {5, 3}], \")\"}], 14, Bold],\n",
    " AxesLabel -> {\n",
    "   Style[\"Normalized Radius\", 14], \n",
    "Style[Row[{Subscript[\"E\", \"0R\"], \"(x)\"}], 14]},  (* Fixed string concatenation *)\n",
    " ImageSize -> 500,\n",
    " GridLines -> {Automatic, {-1, 0, 1}},\n",
    " Prolog -> {LightGray, Opacity[0.1], Rectangle[{0, -1}, {1, 1}]},\n",
    " Epilog -> {\n",
    "   Text[Style[\"Continuum Gap Region\", 12], {0.5, 0.8}, Background -> White], \n",
    "   Arrow[{{0.6, 0.7}, {0.7, 0.3}}]\n",
    " },\n",
    " PlotRange -> {{-0.1, 1.1}, Automatic},\n",
    " PerformanceGoal -> \"Quality\",\n",
    " AspectRatio -> 1/GoldenRatio\n",
    "]\n",
    "\n",
    "(* Enhanced diagnostic output *)\n",
    "Print[\"======================================\"];\n",
    "Print[\"Numerical precision maintained at \", $MachinePrecision, \" digits\"];\n",
    "Print[\"Eigenvalue solution: \", NumberForm[OmegaSqSolution, {8, 6}]];\n",
    "Print[\"Continuum range: [\", NumberForm[OmegaASqMin, {5, 3}], \", \", \n",
    "  NumberForm[OmegaGSqMax, {5, 3}], \"]\"];\n",
    "Print[\"Solution validity: \", If[OmegaASqMin < OmegaSqSolution < OmegaGSqMax, \"PASS\", \"FAIL\"]];\n"
   ]
  }
 ],
 "metadata": {
  "kernelspec": {
   "display_name": "Wolfram Language 12",
   "language": "Wolfram Language",
   "name": "wolframlanguage12"
  },
  "language_info": {
   "codemirror_mode": "mathematica",
   "file_extension": ".m",
   "mimetype": "application/vnd.wolfram.m",
   "name": "Wolfram Language",
   "pygments_lexer": "mathematica",
   "version": "12.0"
  }
 },
 "nbformat": 4,
 "nbformat_minor": 2
}

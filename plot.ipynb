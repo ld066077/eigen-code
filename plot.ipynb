{
 "cells": [
  {
   "cell_type": "code",
   "execution_count": null,
   "metadata": {
    "vscode": {
     "languageId": "plaintext"
    }
   },
   "outputs": [],
   "source": [
    "# ==== Python 可视化脚本 ====\n",
    "import numpy as np\n",
    "import matplotlib.pyplot as plt\n",
    "\n",
    "def plot_gam_mode(csv_path, xmatch):\n",
    "    try:\n",
    "        # 读取数据文件\n",
    "        data = np.genfromtxt(csv_path, delimiter=',', skip_header=1)\n",
    "        x = data[:,0]\n",
    "        Er_real = data[:,1]\n",
    "        \n",
    "        # 创建画布\n",
    "        plt.figure(figsize=(10,6))\n",
    "        \n",
    "        # 绘制实部曲线\n",
    "        plt.plot(x, Er_real, \n",
    "                 color='#1f77b4', \n",
    "                 linewidth=2.5, \n",
    "                 label=r'Re$(E_r)$')\n",
    "        \n",
    "        # 匹配点标注\n",
    "        ymin, ymax = plt.ylim()\n",
    "        plt.vlines(xmatch, ymin, ymax, \n",
    "                   colors='gray', \n",
    "                   linestyles='dashed',\n",
    "                   linewidth=1.5)\n",
    "        plt.text(xmatch+0.02, (ymax+ymin)/2, \n",
    "                'Matching Point',\n",
    "                rotation=90, \n",
    "                verticalalignment='center')\n",
    "        \n",
    "        # 图形修饰\n",
    "        plt.title(f'Global GAM Mode ($\\\\Omega^2 = {OmegaSqSolution:.3f}$)', fontsize=14)\n",
    "        plt.xlabel('Normalized Radius', fontsize=12)\n",
    "        plt.ylabel('Electric Field Amplitude', fontsize=12)\n",
    "        plt.grid(True, alpha=0.3)\n",
    "        plt.legend()\n",
    "        plt.tight_layout()\n",
    "        plt.show()\n",
    "        \n",
    "    except Exception as e:\n",
    "        print(f\"Plotting failed: {str(e)}\")\n",
    "\n",
    "# 使用示例 (需替换实际参数值)\n",
    "OmegaSqSolution = 0.572  # 实际值应与Mathematica计算结果一致\n",
    "plot_gam_mode(\"GAM_mode_data.csv\", xmatch=0.6)  # xmatch需与Mathematica中的值对应\n"
   ]
  }
 ],
 "metadata": {
  "language_info": {
   "name": "python"
  }
 },
 "nbformat": 4,
 "nbformat_minor": 2
}

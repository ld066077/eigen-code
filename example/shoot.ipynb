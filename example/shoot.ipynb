{
 "cells": [
  {
   "cell_type": "code",
   "execution_count": null,
   "metadata": {
    "vscode": {
     "languageId": "FortranFreeForm"
    }
   },
   "outputs": [],
   "source": [
    "program shoot  % 打靶法求例题\n",
    "parameter (m=2,n=100,eps=0.00001)\n",
    "real(8) h, z(m,n), y(m), d(m), x1, xn, yb, alfa, beta, g1, g2\n",
    "integer i,j\n",
    "!open(2, file='shoot1.txt')   % 有空气阻力\n",
    "open(2, file='shoot0.txt')    % 没有空气阻力\n",
    "alfa = 0.0; beta = 40.0; g1 = 30.0\n",
    "x1 = 0.0; xn = 5.0  % a,b\n",
    "h = (xn - x1) / (n - 1)  % 步长\n",
    "y(1) = alfa\n",
    "y(2) = g1\n",
    "call rk4(x1, y, m, h, n, z, d)\n",
    "yb = z(1,n)\n",
    "y(1) = alfa\n",
    "y(2)=beta*g1/z(1,n)\n",
    "g2=y(2)\n",
    "call rk4(x1,y,m,h,n,z,d)\n",
    "if (abs(z(1,n)-beta)>eps) then\n",
    "   y(1)=alfa\n",
    "   y(2)=g2+(beta-z(1,n))*(g2-g1)/(z(1,n)-yb)\n",
    "   g1=g2\n",
    "   g2=y(2)\n",
    "   yb=z(1,n)\n",
    "   call rk4(x1,y,m,h,n,z,d)\n",
    "end if\n",
    "print *, 'z(2,1)=' , z(2,1)\n",
    "do i=1,n\n",
    "   x=x1+(i-1)*h\n",
    "   write(2,'(2f14.8)') x, z(1,i)\n",
    "end do\n",
    "end\n",
    "subroutine f(x, y, m, d)  ! y(1): 空间高度，y(2): 速度，x: 时间\n",
    "real(8) y(m), d(m), x\n",
    "d(1) = y(2)\n",
    "d(2) = -9.8  ! 没有空气阻力\n",
    "! d(2) = -9.8 - 0.01*y(2)  ! 有空气阻力\n",
    "end\n"
   ]
  },
  {
   "cell_type": "markdown",
   "metadata": {},
   "source": [
    "### 求解量子力学一维无限深势阱**"
   ]
  },
  {
   "cell_type": "code",
   "execution_count": null,
   "metadata": {
    "vscode": {
     "languageId": "matlab"
    }
   },
   "outputs": [],
   "source": [
    "function tt = shootev()\n",
    "clc; clear; format long; global k\n",
    "k = 1; tol = 1e-8; m = 3;\n",
    "kk = zeros(1, m); % Pre-allocate kk\n",
    "\n",
    "for n = 1:m      % Finding the first m eigenvalues\n",
    "    dk = k / 20;   % Initial step size\n",
    "    k = k + dk;     % First trial\n",
    "    [x, phi] = ode45(@evfun, [0, 1], [0, 1e-3]);\n",
    "    oldphi = phi(end, 1);\n",
    "    dphi = oldphi;\n",
    "\n",
    "    while abs(dphi) > tol\n",
    "        k = k + dk; % Try a new k\n",
    "        [x, phi] = ode45(@evfun, [0, 1], [0, 1e-3]);\n",
    "        dphi = phi(end, 1);\n",
    "\n",
    "        if dphi * oldphi < 0 % Sign change: eigenvalue bracketed\n",
    "            k = k - dk;      % Step back\n",
    "            dk = dk / 2;     % Halve the step size (bisection)\n",
    "        end\n",
    "      %  oldphi = dphi;     % must remove!!\n",
    "    end\n",
    "    kk(n) = k;            % Store the eigenvalue\n",
    "    hold on;            % Keep previous plots\n",
    "    plot(x, phi(:, 1));   % Plot the eigenfunction\n",
    "end\n",
    "\n",
    "tt = kk; % Return the eigenvalues.\n",
    "\n",
    "    function yy = evfun(x, phi)\n",
    "        global k\n",
    "        yy = [phi(2);          % y' = dy/dx\n",
    "              -k^2 * phi(1)];    % y'' = -k²y\n"
   ]
  }
 ],
 "metadata": {
  "kernelspec": {
   "display_name": "Wolfram Language 12",
   "language": "Wolfram Language",
   "name": "wolframlanguage12"
  },
  "language_info": {
   "codemirror_mode": "mathematica",
   "file_extension": ".m",
   "mimetype": "application/vnd.wolfram.m",
   "name": "Wolfram Language",
   "pygments_lexer": "mathematica",
   "version": "12.0"
  }
 },
 "nbformat": 4,
 "nbformat_minor": 2
}
